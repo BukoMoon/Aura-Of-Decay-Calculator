{
  "nbformat": 4,
  "nbformat_minor": 0,
  "metadata": {
    "colab": {
      "provenance": [],
      "authorship_tag": "ABX9TyPGcfRRjzjgxd7f8zCxAUSg",
      "include_colab_link": true
    },
    "kernelspec": {
      "name": "python3",
      "display_name": "Python 3"
    },
    "language_info": {
      "name": "python"
    }
  },
  "cells": [
    {
      "cell_type": "markdown",
      "metadata": {
        "id": "view-in-github",
        "colab_type": "text"
      },
      "source": [
        "<a href=\"https://colab.research.google.com/github/BukoMoon/Aura-Of-Decay-Calculator/blob/main/AoD_Calc.ipynb\" target=\"_parent\"><img src=\"https://colab.research.google.com/assets/colab-badge.svg\" alt=\"Open In Colab\"/></a>"
      ]
    },
    {
      "cell_type": "markdown",
      "source": [
        "**Aura Of Decay Sustain Calculator**"
      ],
      "metadata": {
        "id": "Q3TxOmG2ikFk"
      }
    },
    {
      "cell_type": "markdown",
      "source": [
        "play button is hidden under the [2]"
      ],
      "metadata": {
        "id": "yvxK9PmnkdtO"
      }
    },
    {
      "cell_type": "code",
      "execution_count": 1,
      "metadata": {
        "id": "VUEhROGagPGm",
        "colab": {
          "base_uri": "https://localhost:8080/"
        },
        "outputId": "39bdcba0-c8a1-4e65-f327-a2953a802985",
        "cellView": "form"
      },
      "outputs": [
        {
          "output_type": "stream",
          "name": "stdout",
          "text": [
            "How much poison damage do you have? 238\n",
            "How much DoT damage do you have? 205\n",
            "How much health do you have? 1282\n",
            "How much health regen do you have? 124\n",
            "How much healing effectiveness do you have? 260\n",
            "How much less damage over time do you have? 0\n",
            "How many points in Innoculation do you have? 4\n",
            "\n",
            "~~~~~~~~~~~~~~~~~~~~~~~~~~~~~~~~~~~~~~~~~~~~~~~~~~\n",
            "~~~~~~~~~~~~~~~~~ AoD sustained! ~~~~~~~~~~~~~~~~~\n",
            "~~~~~~~~~~~~~~~~~~~~~~~~~~~~~~~~~~~~~~~~~~~~~~~~~~\n",
            "         Percent of Health Remaining: 93%         \n",
            "                Total Health: 1282                \n",
            "                   Healing: 152                   \n",
            "       Damage Taken Per Tick of Poison: 38        \n",
            "               Stacks of Poison: 4                \n",
            "          Total Poison Damage Taken: 152          \n"
          ]
        }
      ],
      "source": [
        "#@title V-- CLICK THE PLAY BUTTON TO BEGIN\n",
        "import os\n",
        "\n",
        "\n",
        "def result(current_health, total_health, damage_tick, health_regen, heal_amount, poison_stacks):\n",
        "    if current_health > 0:\n",
        "        remaining_health = 100 - (((total_health - current_health) / total_health) * 100)\n",
        "        print('~' * 50)\n",
        "        print('~' * round((50 / 2 - 8)) + ' AoD sustained! ' + '~' * (round(50 / 2 - 8)))\n",
        "        print('~' * 50)\n",
        "        print(f'Percent of Health Remaining: {round(remaining_health)}%'.center(50))\n",
        "    else:\n",
        "        print('~' * round((50 / 2 - 11)) + 'AoD failed to sustain!' + '~' * round((50 / 2 - 11)))\n",
        "    \n",
        "    print(f'Total Health: {total_health}'.center(50))\n",
        "    print(f'Healing: {heal_amount + health_regen}'.center(50))\n",
        "    print(f'Damage Taken Per Tick of Poison: {round(damage_tick)}'.center(50))\n",
        "    print(f'Stacks of Poison: {poison_stacks}'.center(50))\n",
        "    print(f'Total Poison Damage Taken: {round(damage_tick * poison_stacks)}'.center(50))\n",
        "\n",
        "\n",
        "def calc(total_damage, total_health, health_regen, healing_effectiveness, dot_reduction, points):\n",
        "    base_poison = 28\n",
        "    effect = 1 + healing_effectiveness / 100\n",
        "    current_health = total_health\n",
        "    total_damage = base_poison * (1 + (total_damage / 100))\n",
        "\n",
        "    if points == True:\n",
        "        dr = dot_reduction / 100 + (0.05 * points)\n",
        "    else:\n",
        "        dr = dot_reduction / 100\n",
        "    \n",
        "    damage_tick = (total_damage - (total_damage * (dr + 0.75)))\n",
        "    heal = round((damage_tick * 0.08) * effect)\n",
        "    poison_duration = 3 + (3 * 0.56)\n",
        "\n",
        "    z = 0\n",
        "    poison_stacks = 0\n",
        "    stack_duration = 0\n",
        "\n",
        "    while current_health > 0:\n",
        "        poison_stacks = poison_stacks + 1\n",
        "        stack_duration = stack_duration + 1\n",
        "        if stack_duration >= poison_duration:\n",
        "            poison_stacks = poison_stacks - 1\n",
        "        if current_health > total_health: \n",
        "            current_health = total_health\n",
        "        if heal + health_regen > damage_tick * poison_stacks and poison_stacks > 3:\n",
        "            break\n",
        "        if current_health - damage_tick < 0:\n",
        "            current_health = 0\n",
        "            break   \n",
        "        current_health = current_health - (damage_tick * poison_stacks) + heal + health_regen\n",
        "        heal = round(((total_health - current_health) * 0.08) * points)\n",
        "        z = z + 1\n",
        "        if z == 20:\n",
        "            break\n",
        "\n",
        "    result(current_health, total_health, damage_tick, health_regen, heal, poison_stacks)\n",
        "\n",
        "def error():\n",
        "    print('Invalid Input. Try again.')\n",
        "\n",
        "def main():\n",
        "    questionaire = {\n",
        "        'Poison Damage': \"How much poison damage do you have? \",\n",
        "        'DoT': \"How much DoT damage do you have? \",\n",
        "        'Health': \"How much health do you have? \",\n",
        "        'Health Regen': \"How much health regen do you have? \",\n",
        "        'Health Effectiveness': \"How much healing effectiveness do you have? \",\n",
        "        'DoT Reduction': \"How much less damage over time do you have? \"\n",
        "    }\n",
        "\n",
        "    input_values = {\n",
        "        'Poison Damage': -1,\n",
        "        'DoT': -1,\n",
        "        'Health': -1,\n",
        "        'Health Regen': -1,\n",
        "        'Health Effectiveness': -1,\n",
        "        'DoT Reduction': -1\n",
        "    }\n",
        "\n",
        "    for i in questionaire:\n",
        "        try:\n",
        "            input_values[i] = int(input(questionaire[i]))\n",
        "        except ValueError:\n",
        "            error()\n",
        "\n",
        "    while True:\n",
        "        try:\n",
        "            points = int(input(\"How many points in Innoculation do you have? \"))\n",
        "        except ValueError:\n",
        "            error()\n",
        "        if points >= 0 and points <= 4:\n",
        "            print()\n",
        "            break\n",
        "        else:\n",
        "            error()\n",
        "    \n",
        "    total_damage = input_values['Poison Damage'] + input_values['DoT'] \n",
        " \n",
        "    calc(total_damage, input_values['Health'], input_values['Health Regen'], input_values['Health Effectiveness'], input_values['DoT Reduction'], points)\n",
        "\n",
        "\n",
        "if __name__ == \"__main__\":\n",
        "    main()"
      ]
    },
    {
      "cell_type": "markdown",
      "source": [
        "Note: Calculator assumes you have 56% Duration from 8/8 points in Lasting Stench"
      ],
      "metadata": {
        "id": "cTBgfoILTxWM"
      }
    },
    {
      "cell_type": "code",
      "source": [],
      "metadata": {
        "id": "gygektPZgPyO"
      },
      "execution_count": null,
      "outputs": []
    }
  ]
}