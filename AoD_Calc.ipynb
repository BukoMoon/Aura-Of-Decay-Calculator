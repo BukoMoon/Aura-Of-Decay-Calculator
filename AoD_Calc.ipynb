{
  "nbformat": 4,
  "nbformat_minor": 0,
  "metadata": {
    "colab": {
      "provenance": [],
      "authorship_tag": "ABX9TyMlADTcqpt4gDM0VJDasLuD",
      "include_colab_link": true
    },
    "kernelspec": {
      "name": "python3",
      "display_name": "Python 3"
    },
    "language_info": {
      "name": "python"
    }
  },
  "cells": [
    {
      "cell_type": "markdown",
      "metadata": {
        "id": "view-in-github",
        "colab_type": "text"
      },
      "source": [
        "<a href=\"https://colab.research.google.com/github/BukoMoon/Aura-Of-Decay-Calculator/blob/main/AoD_Calc.ipynb\" target=\"_parent\"><img src=\"https://colab.research.google.com/assets/colab-badge.svg\" alt=\"Open In Colab\"/></a>"
      ]
    },
    {
      "cell_type": "markdown",
      "source": [
        "**Aura Of Decay Sustain Calculator**"
      ],
      "metadata": {
        "id": "Q3TxOmG2ikFk"
      }
    },
    {
      "cell_type": "code",
      "execution_count": null,
      "metadata": {
        "cellView": "form",
        "id": "VUEhROGagPGm"
      },
      "outputs": [],
      "source": [
        "#@title V-- CLICK THE PLAY BUTTON TO BEGIN\n",
        "import os\n",
        "\n",
        "\n",
        "def result(h, health, tick, regen, heal):\n",
        "    if h > 0:\n",
        "        remaining = ((health - h) / health) * 100\n",
        "        print('~' * 50)\n",
        "        print('~' * round((50 / 2 - 8)) + ' AoD sustained! ' + '~' * (round(50 / 2 - 8)))\n",
        "        print('~' * 50)\n",
        "        print(f'Percent of Health Remaining: {round(remaining)}%'.center(50))\n",
        "    else:\n",
        "        print('~' * round((50 / 2 - 11)) + 'AoD failed to sustain!' + '~' * round((50 / 2 - 11)))\n",
        "    \n",
        "    print(f'Total Health: {health}'.center(50))\n",
        "    print(f'Healing: {heal + regen}'.center(50))\n",
        "    print(f'Damage Taken Per Tick of Poison: {round(tick)}'.center(50))\n",
        "\n",
        "\n",
        "def calc(poison, health, regen, eff, dotr, x):\n",
        "    base_poison = 28\n",
        "    e = 1 + eff / 100\n",
        "    h = health\n",
        "    poison = base_poison * (1 + (poison / 100))\n",
        "\n",
        "    if x == True:\n",
        "        dr = dotr / 100 + (0.05 * x)\n",
        "    else:\n",
        "        dr = dotr / 100\n",
        "    \n",
        "    tick = (poison - (poison * dr))\n",
        "    heal = round((tick * 0.08) * e)\n",
        "    \n",
        "    z = 0\n",
        "    while h > 0:\n",
        "        if h > health: \n",
        "            h = health\n",
        "        if heal + regen > tick:\n",
        "            break\n",
        "        if h - tick < 0:\n",
        "            h = 0\n",
        "            break   \n",
        "        h = h - tick + heal + regen\n",
        "        heal = round(((health - h) * 0.08) * e)\n",
        "        z += 1\n",
        "        if z == 10:\n",
        "            break\n",
        "\n",
        "    result(h, health, tick, regen, heal)\n",
        "\n",
        "def error():\n",
        "    print('Invalid Input. Try again.')\n",
        "\n",
        "def main():\n",
        "    questionaire = {\n",
        "        'Poison Damage': \"How much poison damage do you have? \",\n",
        "        'DoT': \"How much DoT damage do you have? \",\n",
        "        'Health': \"How much health do you have? \",\n",
        "        'Health Regen': \"How much regen do you have? \",\n",
        "        'Health Effectiveness': \"How much healing effectiveness do you have? \",\n",
        "        'DoT Reduction': \"How much less damage over time do you have? \"\n",
        "    }\n",
        "\n",
        "    input_values = {\n",
        "        'Poison Damage': -1,\n",
        "        'DoT': -1,\n",
        "        'Health': -1,\n",
        "        'Health Regen': -1,\n",
        "        'Health Effectiveness': -1,\n",
        "        'DoT Reduction': -1\n",
        "    }\n",
        "\n",
        "    for i in questionaire:\n",
        "        try:\n",
        "            input_values[i] = int(input(questionaire[i]))\n",
        "        except ValueError:\n",
        "            error()\n",
        "\n",
        "    while True:\n",
        "        try:\n",
        "            points = int(input(\"How many points in Innoculation do you have? \"))\n",
        "        except ValueError:\n",
        "            error()\n",
        "        if points >= 0 and points <= 4:\n",
        "            print()\n",
        "            break\n",
        "        else:\n",
        "            error()\n",
        "    \n",
        "    damage = input_values['Poison Damage'] + input_values['DoT'] \n",
        " \n",
        "    calc(damage, input_values['Health'], input_values['Health Regen'], input_values['Health Effectiveness'], input_values['DoT Reduction'], points)\n",
        "\n",
        "\n",
        "if __name__ == \"__main__\":\n",
        "    main()"
      ]
    },
    {
      "cell_type": "code",
      "source": [],
      "metadata": {
        "id": "gygektPZgPyO"
      },
      "execution_count": null,
      "outputs": []
    }
  ]
}