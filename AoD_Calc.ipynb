{
  "nbformat": 4,
  "nbformat_minor": 0,
  "metadata": {
    "colab": {
      "provenance": [],
      "authorship_tag": "ABX9TyMMTqjFKhuf+dlO3idM0h0T",
      "include_colab_link": true
    },
    "kernelspec": {
      "name": "python3",
      "display_name": "Python 3"
    },
    "language_info": {
      "name": "python"
    }
  },
  "cells": [
    {
      "cell_type": "markdown",
      "metadata": {
        "id": "view-in-github",
        "colab_type": "text"
      },
      "source": [
        "<a href=\"https://colab.research.google.com/github/BukoMoon/Aura-Of-Decay-Calculator/blob/main/AoD_Calc.ipynb\" target=\"_parent\"><img src=\"https://colab.research.google.com/assets/colab-badge.svg\" alt=\"Open In Colab\"/></a>"
      ]
    },
    {
      "cell_type": "markdown",
      "source": [
        "**Aura Of Decay Sustain Calculator**"
      ],
      "metadata": {
        "id": "Q3TxOmG2ikFk"
      }
    },
    {
      "cell_type": "markdown",
      "source": [
        "play button is hidden under the [2]"
      ],
      "metadata": {
        "id": "yvxK9PmnkdtO"
      }
    },
    {
      "cell_type": "code",
      "execution_count": null,
      "metadata": {
        "id": "VUEhROGagPGm"
      },
      "outputs": [],
      "source": [
        "#@title V-- CLICK THE PLAY BUTTON TO BEGIN\n",
        "import os\n",
        "\n",
        "\n",
        "def result(current_health, total_health, damage_tick, health_regen, heal_amount):\n",
        "    if current_health > 0:\n",
        "        remaining_health = ((total_health - current_health) / total_health) * 100\n",
        "        print('~' * 50)\n",
        "        print('~' * round((50 / 2 - 8)) + ' AoD sustained! ' + '~' * (round(50 / 2 - 8)))\n",
        "        print('~' * 50)\n",
        "        print(f'Percent of Health Remaining: {round(remaining_health)}%'.center(50))\n",
        "    else:\n",
        "        print('~' * round((50 / 2 - 11)) + 'AoD failed to sustain!' + '~' * round((50 / 2 - 11)))\n",
        "    \n",
        "    print(f'Total Health: {total_health}'.center(50))\n",
        "    print(f'Healing: {heal_amount + health_regen}'.center(50))\n",
        "    print(f'Damage Taken Per Tick of Poison: {round(damage_tick)}'.center(50))\n",
        "\n",
        "\n",
        "def calc(total_damage, total_health, health_regen, healing_effectiveness, dot_reduction, points):\n",
        "    base_poison = 28\n",
        "    effect = 1 + healing_effectiveness / 100\n",
        "    current_health = total_health\n",
        "    total_damage = base_poison * (1 + (total_damage / 100))\n",
        "\n",
        "    if points == True:\n",
        "        damage_reduction = dot_reduction / 100 + (0.05 * points)\n",
        "    else:\n",
        "        damage_reduction  = dot_reduction / 100\n",
        "    \n",
        "    damage_tick = (total_damage - (total_damage * damage_reduction ))\n",
        "    heal_amount = round((damage_tick * 0.08) * effect)\n",
        "    \n",
        "    z = 0\n",
        "    while total_health > 0:\n",
        "        if total_health > current_health: \n",
        "            total_health = current_health\n",
        "        if heal + health_regen > damage_tick:\n",
        "            break\n",
        "        if total_health - damage_tick < 0:\n",
        "            total_health = 0\n",
        "            break   \n",
        "        total_health = total_health - damage_tick + heal + health_regen\n",
        "        heal = round(((current_health - total_health) * 0.08) * effect)\n",
        "        z += 1\n",
        "        if z == 10:\n",
        "            break\n",
        "\n",
        "    result(total_health, current_health, damage_tick, health_regen, heal)\n",
        "\n",
        "def error():\n",
        "    print('Invalid Input. Try again.')\n",
        "\n",
        "def main():\n",
        "    questionaire = {\n",
        "        'Poison Damage': \"How much poison damage do you have? \",\n",
        "        'DoT': \"How much DoT damage do you have? \",\n",
        "        'Health': \"How much health do you have? \",\n",
        "        'Health Regen': \"How much health regen do you have? \",\n",
        "        'Health Effectiveness': \"How much healing effectiveness do you have? \",\n",
        "        'DoT Reduction': \"How much less damage over time do you have? \"\n",
        "    }\n",
        "\n",
        "    input_values = {\n",
        "        'Poison Damage': -1,\n",
        "        'DoT': -1,\n",
        "        'Health': -1,\n",
        "        'Health Regen': -1,\n",
        "        'Health Effectiveness': -1,\n",
        "        'DoT Reduction': -1\n",
        "    }\n",
        "\n",
        "    for i in questionaire:\n",
        "        try:\n",
        "            input_values[i] = int(input(questionaire[i]))\n",
        "        except ValueError:\n",
        "            error()\n",
        "\n",
        "    while True:\n",
        "        try:\n",
        "            points = int(input(\"How many points in Innoculation do you have? \"))\n",
        "        except ValueError:\n",
        "            error()\n",
        "        if points >= 0 and points <= 4:\n",
        "            print()\n",
        "            break\n",
        "        else:\n",
        "            error()\n",
        "    \n",
        "    total_damage = input_values['Poison Damage'] + input_values['DoT'] \n",
        " \n",
        "    calc(total_damage, input_values['Health'], input_values['Health Regen'], input_values['Health Effectiveness'], input_values['DoT Reduction'], points)\n",
        "\n",
        "\n",
        "if __name__ == \"__main__\":\n",
        "    main()"
      ]
    },
    {
      "cell_type": "code",
      "source": [],
      "metadata": {
        "id": "gygektPZgPyO"
      },
      "execution_count": null,
      "outputs": []
    }
  ]
}